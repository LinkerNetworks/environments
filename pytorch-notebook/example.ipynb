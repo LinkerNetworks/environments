{
 "cells": [
  {
   "cell_type": "code",
   "execution_count": null,
   "metadata": {},
   "outputs": [],
   "source": [
    "import torch\n",
    "from torch import nn\n",
    "from torch.utils import data\n",
    "from torch.autograd import Variable\n",
    "from torchvision import datasets, transforms"
   ]
  },
  {
   "cell_type": "code",
   "execution_count": null,
   "metadata": {},
   "outputs": [],
   "source": [
    "batch_size = 128\n",
    "shuffle = True\n",
    "use_cuda = torch.cuda.is_available()\n",
    "learning_rate = 1e-3\n",
    "epochs = 10"
   ]
  },
  {
   "cell_type": "code",
   "execution_count": null,
   "metadata": {},
   "outputs": [],
   "source": [
    "class Net(nn.Module):\n",
    "    def __init__(self):\n",
    "        super(Net, self).__init__()\n",
    "\n",
    "        self.conv = nn.Sequential(\n",
    "            nn.Conv2d(1, 32, 5, 2),\n",
    "            nn.BatchNorm2d(32),\n",
    "            nn.ReLU(),\n",
    "            nn.Dropout2d(),\n",
    "            nn.Conv2d(32, 64, 5, 2),\n",
    "            nn.BatchNorm2d(64),\n",
    "            nn.ReLU(),\n",
    "            nn.Dropout2d()\n",
    "        )\n",
    "\n",
    "        self.linear = nn.Sequential(\n",
    "            nn.Linear(64 * 4 * 4, 1024),\n",
    "            nn.BatchNorm2d(1024),\n",
    "            nn.ReLU(),\n",
    "            nn.Dropout(),\n",
    "            nn.Linear(1024, 10),\n",
    "        )\n",
    "\n",
    "    def forward(self, input_):\n",
    "        output = self.conv(input_)\n",
    "        output = output.view(-1, 64 * 4 * 4)\n",
    "        output = self.linear(output)\n",
    "        return output"
   ]
  },
  {
   "cell_type": "code",
   "execution_count": null,
   "metadata": {},
   "outputs": [],
   "source": [
    "transform = transforms.Compose([\n",
    "    transforms.ToTensor(),\n",
    "    transforms.Normalize((0.13066047740239478,), (0.3081078087569972,))\n",
    "])\n",
    "\n",
    "train_dataloader = data.DataLoader(datasets.MNIST('data',\n",
    "                                                  train=True,\n",
    "                                                  transform=transform,\n",
    "                                                  download=True),\n",
    "                                   batch_size=batch_size,\n",
    "                                   shuffle=shuffle)\n",
    "\n",
    "test_dataloader = data.DataLoader(datasets.MNIST('data',\n",
    "                                                  train=False,\n",
    "                                                  transform=transform,\n",
    "                                                  download=True),\n",
    "                                   batch_size=batch_size,\n",
    "                                   shuffle=shuffle)"
   ]
  },
  {
   "cell_type": "code",
   "execution_count": null,
   "metadata": {},
   "outputs": [],
   "source": [
    "net = Net()\n",
    "\n",
    "if use_cuda:\n",
    "    net.cuda()\n",
    "    \n",
    "optimizer = torch.optim.Adam(net.parameters(), lr=learning_rate)\n",
    "cross_entropy = nn.CrossEntropyLoss()"
   ]
  },
  {
   "cell_type": "code",
   "execution_count": null,
   "metadata": {},
   "outputs": [],
   "source": [
    "def train():\n",
    "    net.train()\n",
    "    losses = []\n",
    "    for train_index, (train_x, train_y) in enumerate(train_dataloader):\n",
    "        train_x = Variable(train_x)\n",
    "        train_y = Variable(train_y)\n",
    "        \n",
    "        if use_cuda:\n",
    "            train_x = train_x.cuda()\n",
    "            train_y = train_y.cuda()\n",
    "        \n",
    "        loss = cross_entropy(net(train_x), train_y)\n",
    "        \n",
    "        loss.backward()\n",
    "        optimizer.step()\n",
    "        optimizer.zero_grad()\n",
    "    \n",
    "        losses.append(loss)\n",
    "        \n",
    "    return torch.cat(losses).mean()\n",
    "\n",
    "def evaluate():\n",
    "    net.eval()\n",
    "\n",
    "    correct = 0\n",
    "    for test_index, (test_x, test_y) in enumerate(test_dataloader):\n",
    "        test_x = Variable(test_x, volatile=True)\n",
    "        test_y = Variable(test_y)\n",
    "\n",
    "        if use_cuda:\n",
    "            test_x = test_x.cuda()\n",
    "            test_y = test_y.cuda()\n",
    "\n",
    "        _, max_indices = net(test_x).max(1)\n",
    "        correct += int((max_indices == test_y).sum())\n",
    "\n",
    "    testing_accuracy = correct / len(test_dataloader.dataset)\n",
    "\n",
    "    return testing_accuracy"
   ]
  },
  {
   "cell_type": "code",
   "execution_count": null,
   "metadata": {},
   "outputs": [],
   "source": [
    "for epoch in range(epochs):\n",
    "    train_avg_loss = train()\n",
    "    test_acc = evaluate()\n",
    "    print('Epoch: {}, train loss: {}, test acc: {}.'.format(epoch, float(train_avg_loss), test_acc))"
   ]
  }
 ],
 "metadata": {
  "kernelspec": {
   "display_name": "Python 3",
   "language": "python",
   "name": "python3"
  },
  "language_info": {
   "codemirror_mode": {
    "name": "ipython",
    "version": 3
   },
   "file_extension": ".py",
   "mimetype": "text/x-python",
   "name": "python",
   "nbconvert_exporter": "python",
   "pygments_lexer": "ipython3",
   "version": "3.6.4"
  }
 },
 "nbformat": 4,
 "nbformat_minor": 2
}
